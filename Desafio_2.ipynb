{
  "cells": [
    {
      "cell_type": "markdown",
      "metadata": {
        "id": "U4fKh9Mzu6jJ"
      },
      "source": [
        "Para este ejercicio lo primero que se debe realizar es la instalación de las librerías PyPDF2 y openai. Esto para importar las hojas de vida. Para este ejercicio he tenido que simular con hojas de vida personales ya que no encontré el zip con las del enunciado. Sin embargo funcionaría de igual forma, solo incluyendolas dentro de la carpeta destinada en el colab  "
      ]
    },
    {
      "cell_type": "code",
      "execution_count": 1,
      "metadata": {
        "colab": {
          "base_uri": "https://localhost:8080/"
        },
        "id": "YvtuM_uFhGTN",
        "outputId": "dd7b1d79-1132-4221-8692-34da1c3fe2c0"
      },
      "outputs": [
        {
          "name": "stdout",
          "output_type": "stream",
          "text": [
            "Requirement already satisfied: spacy in /usr/local/lib/python3.10/dist-packages (3.7.6)\n",
            "Requirement already satisfied: transformers in /usr/local/lib/python3.10/dist-packages (4.42.4)\n",
            "Requirement already satisfied: spacy-legacy<3.1.0,>=3.0.11 in /usr/local/lib/python3.10/dist-packages (from spacy) (3.0.12)\n",
            "Requirement already satisfied: spacy-loggers<2.0.0,>=1.0.0 in /usr/local/lib/python3.10/dist-packages (from spacy) (1.0.5)\n",
            "Requirement already satisfied: murmurhash<1.1.0,>=0.28.0 in /usr/local/lib/python3.10/dist-packages (from spacy) (1.0.10)\n",
            "Requirement already satisfied: cymem<2.1.0,>=2.0.2 in /usr/local/lib/python3.10/dist-packages (from spacy) (2.0.8)\n",
            "Requirement already satisfied: preshed<3.1.0,>=3.0.2 in /usr/local/lib/python3.10/dist-packages (from spacy) (3.0.9)\n",
            "Requirement already satisfied: thinc<8.3.0,>=8.2.2 in /usr/local/lib/python3.10/dist-packages (from spacy) (8.2.5)\n",
            "Requirement already satisfied: wasabi<1.2.0,>=0.9.1 in /usr/local/lib/python3.10/dist-packages (from spacy) (1.1.3)\n",
            "Requirement already satisfied: srsly<3.0.0,>=2.4.3 in /usr/local/lib/python3.10/dist-packages (from spacy) (2.4.8)\n",
            "Requirement already satisfied: catalogue<2.1.0,>=2.0.6 in /usr/local/lib/python3.10/dist-packages (from spacy) (2.0.10)\n",
            "Requirement already satisfied: weasel<0.5.0,>=0.1.0 in /usr/local/lib/python3.10/dist-packages (from spacy) (0.4.1)\n",
            "Requirement already satisfied: typer<1.0.0,>=0.3.0 in /usr/local/lib/python3.10/dist-packages (from spacy) (0.12.4)\n",
            "Requirement already satisfied: tqdm<5.0.0,>=4.38.0 in /usr/local/lib/python3.10/dist-packages (from spacy) (4.66.5)\n",
            "Requirement already satisfied: requests<3.0.0,>=2.13.0 in /usr/local/lib/python3.10/dist-packages (from spacy) (2.32.3)\n",
            "Requirement already satisfied: pydantic!=1.8,!=1.8.1,<3.0.0,>=1.7.4 in /usr/local/lib/python3.10/dist-packages (from spacy) (2.8.2)\n",
            "Requirement already satisfied: jinja2 in /usr/local/lib/python3.10/dist-packages (from spacy) (3.1.4)\n",
            "Requirement already satisfied: setuptools in /usr/local/lib/python3.10/dist-packages (from spacy) (71.0.4)\n",
            "Requirement already satisfied: packaging>=20.0 in /usr/local/lib/python3.10/dist-packages (from spacy) (24.1)\n",
            "Requirement already satisfied: langcodes<4.0.0,>=3.2.0 in /usr/local/lib/python3.10/dist-packages (from spacy) (3.4.0)\n",
            "Requirement already satisfied: numpy>=1.19.0 in /usr/local/lib/python3.10/dist-packages (from spacy) (1.26.4)\n",
            "Requirement already satisfied: filelock in /usr/local/lib/python3.10/dist-packages (from transformers) (3.15.4)\n",
            "Requirement already satisfied: huggingface-hub<1.0,>=0.23.2 in /usr/local/lib/python3.10/dist-packages (from transformers) (0.23.5)\n",
            "Requirement already satisfied: pyyaml>=5.1 in /usr/local/lib/python3.10/dist-packages (from transformers) (6.0.2)\n",
            "Requirement already satisfied: regex!=2019.12.17 in /usr/local/lib/python3.10/dist-packages (from transformers) (2024.5.15)\n",
            "Requirement already satisfied: safetensors>=0.4.1 in /usr/local/lib/python3.10/dist-packages (from transformers) (0.4.4)\n",
            "Requirement already satisfied: tokenizers<0.20,>=0.19 in /usr/local/lib/python3.10/dist-packages (from transformers) (0.19.1)\n",
            "Requirement already satisfied: fsspec>=2023.5.0 in /usr/local/lib/python3.10/dist-packages (from huggingface-hub<1.0,>=0.23.2->transformers) (2024.6.1)\n",
            "Requirement already satisfied: typing-extensions>=3.7.4.3 in /usr/local/lib/python3.10/dist-packages (from huggingface-hub<1.0,>=0.23.2->transformers) (4.12.2)\n",
            "Requirement already satisfied: language-data>=1.2 in /usr/local/lib/python3.10/dist-packages (from langcodes<4.0.0,>=3.2.0->spacy) (1.2.0)\n",
            "Requirement already satisfied: annotated-types>=0.4.0 in /usr/local/lib/python3.10/dist-packages (from pydantic!=1.8,!=1.8.1,<3.0.0,>=1.7.4->spacy) (0.7.0)\n",
            "Requirement already satisfied: pydantic-core==2.20.1 in /usr/local/lib/python3.10/dist-packages (from pydantic!=1.8,!=1.8.1,<3.0.0,>=1.7.4->spacy) (2.20.1)\n",
            "Requirement already satisfied: charset-normalizer<4,>=2 in /usr/local/lib/python3.10/dist-packages (from requests<3.0.0,>=2.13.0->spacy) (3.3.2)\n",
            "Requirement already satisfied: idna<4,>=2.5 in /usr/local/lib/python3.10/dist-packages (from requests<3.0.0,>=2.13.0->spacy) (3.7)\n",
            "Requirement already satisfied: urllib3<3,>=1.21.1 in /usr/local/lib/python3.10/dist-packages (from requests<3.0.0,>=2.13.0->spacy) (2.0.7)\n",
            "Requirement already satisfied: certifi>=2017.4.17 in /usr/local/lib/python3.10/dist-packages (from requests<3.0.0,>=2.13.0->spacy) (2024.7.4)\n",
            "Requirement already satisfied: blis<0.8.0,>=0.7.8 in /usr/local/lib/python3.10/dist-packages (from thinc<8.3.0,>=8.2.2->spacy) (0.7.11)\n",
            "Requirement already satisfied: confection<1.0.0,>=0.0.1 in /usr/local/lib/python3.10/dist-packages (from thinc<8.3.0,>=8.2.2->spacy) (0.1.5)\n",
            "Requirement already satisfied: click>=8.0.0 in /usr/local/lib/python3.10/dist-packages (from typer<1.0.0,>=0.3.0->spacy) (8.1.7)\n",
            "Requirement already satisfied: shellingham>=1.3.0 in /usr/local/lib/python3.10/dist-packages (from typer<1.0.0,>=0.3.0->spacy) (1.5.4)\n",
            "Requirement already satisfied: rich>=10.11.0 in /usr/local/lib/python3.10/dist-packages (from typer<1.0.0,>=0.3.0->spacy) (13.7.1)\n",
            "Requirement already satisfied: cloudpathlib<1.0.0,>=0.7.0 in /usr/local/lib/python3.10/dist-packages (from weasel<0.5.0,>=0.1.0->spacy) (0.18.1)\n",
            "Requirement already satisfied: smart-open<8.0.0,>=5.2.1 in /usr/local/lib/python3.10/dist-packages (from weasel<0.5.0,>=0.1.0->spacy) (7.0.4)\n",
            "Requirement already satisfied: MarkupSafe>=2.0 in /usr/local/lib/python3.10/dist-packages (from jinja2->spacy) (2.1.5)\n",
            "Requirement already satisfied: marisa-trie>=0.7.7 in /usr/local/lib/python3.10/dist-packages (from language-data>=1.2->langcodes<4.0.0,>=3.2.0->spacy) (1.2.0)\n",
            "Requirement already satisfied: markdown-it-py>=2.2.0 in /usr/local/lib/python3.10/dist-packages (from rich>=10.11.0->typer<1.0.0,>=0.3.0->spacy) (3.0.0)\n",
            "Requirement already satisfied: pygments<3.0.0,>=2.13.0 in /usr/local/lib/python3.10/dist-packages (from rich>=10.11.0->typer<1.0.0,>=0.3.0->spacy) (2.16.1)\n",
            "Requirement already satisfied: wrapt in /usr/local/lib/python3.10/dist-packages (from smart-open<8.0.0,>=5.2.1->weasel<0.5.0,>=0.1.0->spacy) (1.16.0)\n",
            "Requirement already satisfied: mdurl~=0.1 in /usr/local/lib/python3.10/dist-packages (from markdown-it-py>=2.2.0->rich>=10.11.0->typer<1.0.0,>=0.3.0->spacy) (0.1.2)\n",
            "Collecting PyPDF2\n",
            "  Downloading pypdf2-3.0.1-py3-none-any.whl.metadata (6.8 kB)\n",
            "Downloading pypdf2-3.0.1-py3-none-any.whl (232 kB)\n",
            "\u001b[2K   \u001b[90m━━━━━━━━━━━━━━━━━━━━━━━━━━━━━━━━━━━━━━━━\u001b[0m \u001b[32m232.6/232.6 kB\u001b[0m \u001b[31m3.3 MB/s\u001b[0m eta \u001b[36m0:00:00\u001b[0m\n",
            "\u001b[?25hInstalling collected packages: PyPDF2\n",
            "Successfully installed PyPDF2-3.0.1\n",
            "Collecting openai==0.28\n",
            "  Downloading openai-0.28.0-py3-none-any.whl.metadata (13 kB)\n",
            "Requirement already satisfied: requests>=2.20 in /usr/local/lib/python3.10/dist-packages (from openai==0.28) (2.32.3)\n",
            "Requirement already satisfied: tqdm in /usr/local/lib/python3.10/dist-packages (from openai==0.28) (4.66.5)\n",
            "Requirement already satisfied: aiohttp in /usr/local/lib/python3.10/dist-packages (from openai==0.28) (3.10.5)\n",
            "Requirement already satisfied: charset-normalizer<4,>=2 in /usr/local/lib/python3.10/dist-packages (from requests>=2.20->openai==0.28) (3.3.2)\n",
            "Requirement already satisfied: idna<4,>=2.5 in /usr/local/lib/python3.10/dist-packages (from requests>=2.20->openai==0.28) (3.7)\n",
            "Requirement already satisfied: urllib3<3,>=1.21.1 in /usr/local/lib/python3.10/dist-packages (from requests>=2.20->openai==0.28) (2.0.7)\n",
            "Requirement already satisfied: certifi>=2017.4.17 in /usr/local/lib/python3.10/dist-packages (from requests>=2.20->openai==0.28) (2024.7.4)\n",
            "Requirement already satisfied: aiohappyeyeballs>=2.3.0 in /usr/local/lib/python3.10/dist-packages (from aiohttp->openai==0.28) (2.4.0)\n",
            "Requirement already satisfied: aiosignal>=1.1.2 in /usr/local/lib/python3.10/dist-packages (from aiohttp->openai==0.28) (1.3.1)\n",
            "Requirement already satisfied: attrs>=17.3.0 in /usr/local/lib/python3.10/dist-packages (from aiohttp->openai==0.28) (24.2.0)\n",
            "Requirement already satisfied: frozenlist>=1.1.1 in /usr/local/lib/python3.10/dist-packages (from aiohttp->openai==0.28) (1.4.1)\n",
            "Requirement already satisfied: multidict<7.0,>=4.5 in /usr/local/lib/python3.10/dist-packages (from aiohttp->openai==0.28) (6.0.5)\n",
            "Requirement already satisfied: yarl<2.0,>=1.0 in /usr/local/lib/python3.10/dist-packages (from aiohttp->openai==0.28) (1.9.4)\n",
            "Requirement already satisfied: async-timeout<5.0,>=4.0 in /usr/local/lib/python3.10/dist-packages (from aiohttp->openai==0.28) (4.0.3)\n",
            "Downloading openai-0.28.0-py3-none-any.whl (76 kB)\n",
            "\u001b[2K   \u001b[90m━━━━━━━━━━━━━━━━━━━━━━━━━━━━━━━━━━━━━━━━\u001b[0m \u001b[32m76.5/76.5 kB\u001b[0m \u001b[31m2.4 MB/s\u001b[0m eta \u001b[36m0:00:00\u001b[0m\n",
            "\u001b[?25hInstalling collected packages: openai\n",
            "Successfully installed openai-0.28.0\n"
          ]
        }
      ],
      "source": [
        "#Importe de librerías necesarias\n",
        "\n",
        "!pip install spacy transformers\n",
        "!pip install PyPDF2\n",
        "!pip install openai==0.28"
      ]
    },
    {
      "cell_type": "markdown",
      "metadata": {
        "id": "fAVMB5jKvxS9"
      },
      "source": [
        "Posteriormente se realiza el importe de las librerías mencionadas anteriormente, además de os, para trasladarse dentro del directorio activo y json para poder generar el json final."
      ]
    },
    {
      "cell_type": "code",
      "execution_count": 65,
      "metadata": {
        "id": "RmxY0Xp0hRrJ"
      },
      "outputs": [],
      "source": [
        "# Importe de librerías\n",
        "import os\n",
        "import json\n",
        "import PyPDF2\n",
        "import openai"
      ]
    },
    {
      "cell_type": "markdown",
      "metadata": {
        "id": "Yha5vO48wDO1"
      },
      "source": [
        "Para este ejercicio se ha probrado un prompt zero shoot con openai, para esto se utiliza el api key del proceso. También se utiliza la carpeta del directorio en donde irán colocadas las hojas de vida para su diagnóstico, y se define el array de all_results para poder acumular la información de los json que se van recopilando."
      ]
    },
    {
      "cell_type": "code",
      "execution_count": 72,
      "metadata": {
        "id": "J5PyDS39hVIa"
      },
      "outputs": [],
      "source": [
        "# Configurar la API de OpenAI\n",
        "openai.api_key = 'no se comparte por seguridad'\n",
        "\n",
        "# Ruta a la carpeta que contiene los archivos PDF\n",
        "pdf_folder_path = '/content/CV/'\n",
        "\n",
        "# Lista para almacenar los resultados JSON\n",
        "all_results = []"
      ]
    },
    {
      "cell_type": "markdown",
      "metadata": {
        "id": "qsneDPaYwvqG"
      },
      "source": [
        "A continuación, se genera una iteración para poder recorrer cada uno de los elementos de la carpeta en donde se encuentran las hojas de vida. En este proceso, se abre el pdf, se extrae el texto y luego se introduce a un modelo de inteligencia artificial generativa de openai. Se intento primero con el modelo de completion (gpt-3.5-turbo-instruct), pero no generó los resultados esperados, por lo que se decidió utilizar la ia de chat completions (gpt-3.5-turbo-1106). Inicialmente se pensó en el de completions, porque era una acción definida la que se ejecutaría, mas no un chat, pero lamentablemente el json no quedaba bien definido. En este caso se asegura que el JSON quede bien construido a base de un prompt procedimental zero shoot, pero con la isntrucción clara de como construir el json. La salida del json estaba generando dificultadas y se intentó generar de diversas maneras. La mas efectiva fue la utilizada actualmente, lo que obligó a extraer el json por medio de expresiones regulares."
      ]
    },
    {
      "cell_type": "code",
      "execution_count": 73,
      "metadata": {
        "colab": {
          "base_uri": "https://localhost:8080/"
        },
        "id": "BhtC-0rPhgmm",
        "outputId": "2dcda2c4-aecd-4730-84e2-9c3084aebbb9"
      },
      "outputs": [
        {
          "name": "stdout",
          "output_type": "stream",
          "text": [
            "```json\n",
            "{\n",
            "  \"nombre\": \"Diana Fernanda Serna Guzmán\",\n",
            "  \"telefono\": \"3135536157\",\n",
            "  \"cedula\": \"1.053.843.025\",\n",
            "  \"años de experiencia\": \"4\",\n",
            "  \"background IA\": \"No\"\n",
            "}\n",
            "```\n",
            "Contenido JSON extraído: {\n",
            "  \"nombre\": \"Diana Fernanda Serna Guzmán\",\n",
            "  \"telefono\": \"3135536157\",\n",
            "  \"cedula\": \"1.053.843.025\",\n",
            "  \"años de experiencia\": \"4\",\n",
            "  \"background IA\": \"No\"\n",
            "}\n",
            "```json\n",
            "{\n",
            "  \"nombre\": \"Andrés Felipe Serna Guzmán\",\n",
            "  \"telefono\": \"3127964371\",\n",
            "  \"cedula\": \"1053830076\",\n",
            "  \"años de experiencia\": \"6\",\n",
            "  \"background IA\": \"Sí\"\n",
            "}\n",
            "```\n",
            "Contenido JSON extraído: {\n",
            "  \"nombre\": \"Andrés Felipe Serna Guzmán\",\n",
            "  \"telefono\": \"3127964371\",\n",
            "  \"cedula\": \"1053830076\",\n",
            "  \"años de experiencia\": \"6\",\n",
            "  \"background IA\": \"Sí\"\n",
            "}\n",
            "```json\n",
            "{\n",
            "  \"nombre\": \"Juan Sebastian Correa Giraldo\",\n",
            "  \"telefono\": \"3173750355\",\n",
            "  \"cedula\": null,\n",
            "  \"años de experiencia\": \"6\",\n",
            "  \"background IA\": \"No\"\n",
            "}\n",
            "```\n",
            "Contenido JSON extraído: {\n",
            "  \"nombre\": \"Juan Sebastian Correa Giraldo\",\n",
            "  \"telefono\": \"3173750355\",\n",
            "  \"cedula\": null,\n",
            "  \"años de experiencia\": \"6\",\n",
            "  \"background IA\": \"No\"\n",
            "}\n"
          ]
        }
      ],
      "source": [
        "# Iterar sobre todos los archivos en la carpeta\n",
        "for filename in os.listdir(pdf_folder_path):\n",
        "    if filename.endswith('.pdf'):\n",
        "        pdf_file_path = os.path.join(pdf_folder_path, filename)\n",
        "\n",
        "        # Leer el contenido del archivo PDF\n",
        "        with open(pdf_file_path, 'rb') as pdf_file:\n",
        "            reader = PyPDF2.PdfReader(pdf_file)\n",
        "            text = ''\n",
        "            for page in reader.pages:\n",
        "                text += page.extract_text()\n",
        "\n",
        "        # Llamada a la API de OpenAI con el modelo de chat completions\n",
        "        response = openai.ChatCompletion.create(\n",
        "            model=\"gpt-3.5-turbo-1106\",\n",
        "            messages=[\n",
        "                {\"role\": \"system\", \"content\": \"Eres un asistente que extrae datos de currículums.\"},\n",
        "                {\"role\": \"user\", \"content\": f\"\"\"\n",
        "                Dado el siguiente texto:\n",
        "\n",
        "                \\\"{text}\\\"\n",
        "\n",
        "                1. Debes memorizar solo los siguientes datos del texto:\n",
        "                   - Nombre\n",
        "                   - Teléfono\n",
        "                   - Cédula\n",
        "                   - Años de experiencia\n",
        "\n",
        "                2. Basado en la información proporcionada, deberás tener en cuenta si el candidato tiene un background en inteligencia artificial (IA) o no.\n",
        "\n",
        "                3. Tu respuesta debe ser únicamente un JSON que contenga solo esta información:\n",
        "\n",
        "                ```json\n",
        "                {{\n",
        "                \"nombre\": \"<nombre extraído>\",\n",
        "                \"telefono\": \"<teléfono extraído>\",\n",
        "                \"cedula\": \"<cédula extraída>\",\n",
        "                \"años de experiencia\": \"<Solo el número de años de experiencia extraídos>\",\n",
        "                \"background IA\": \"<Solo hay dos opciones de respuesta: 'Sí' o 'No'>\"\n",
        "                }}\n",
        "                ```\n",
        "                \"\"\"}\n",
        "            ],\n",
        "            max_tokens=200\n",
        "        )\n",
        "\n",
        "        # Procesar la respuesta de la API\n",
        "        output = response.choices[0].message['content'].strip()\n",
        "        print(output)\n",
        "\n",
        "        # Extraer solo el contenido JSON utilizando expresión regular\n",
        "        json_match = re.search(r'\\{.*?\\}', output, re.DOTALL)\n",
        "        if json_match:\n",
        "            json_content = json_match.group(0)\n",
        "        else:\n",
        "            json_content = '{\"error\": \"No se encontró contenido JSON\"}'\n",
        "\n",
        "        print(\"Contenido JSON extraído:\", json_content)\n",
        "\n",
        "\n",
        "        # Convertir la salida en un diccionario JSON\n",
        "        try:\n",
        "            json_output = json.loads(json_content)\n",
        "        except json.JSONDecodeError:\n",
        "            print(f\"Error al decodificar JSON para el archivo: {filename}\")\n",
        "            json_output = {\"error\": \"Invalid JSON format\"}\n",
        "\n",
        "        # Agregar el resultado a la lista\n",
        "        json_output[\"archivo\"] = filename\n",
        "        all_results.append(json_output)"
      ]
    },
    {
      "cell_type": "markdown",
      "metadata": {
        "id": "feRyT-RCyOs3"
      },
      "source": [
        "Por ultimo, con los json listos para ser guardados, se utiliza json dump y se guardan los archivos de tal manera de que quedan almacenados dentro del proceso actual."
      ]
    },
    {
      "cell_type": "code",
      "execution_count": 74,
      "metadata": {
        "colab": {
          "base_uri": "https://localhost:8080/"
        },
        "id": "_m75PAuIjUPJ",
        "outputId": "628cc246-d938-427d-cb15-7f7d95436d56"
      },
      "outputs": [
        {
          "name": "stdout",
          "output_type": "stream",
          "text": [
            "Todos los resultados se han guardado en 'resultados_combinados.json'.\n"
          ]
        }
      ],
      "source": [
        "# Guardar todos los resultados en un archivo JSON\n",
        "with open('/content/CV/resultados_combinados.json', 'w', encoding='utf-8') as f:\n",
        "    json.dump(all_results, f, ensure_ascii=False, indent=4)\n",
        "\n",
        "print(\"Todos los resultados se han guardado en 'resultados_combinados.json'.\")"
      ]
    },
    {
      "cell_type": "markdown",
      "metadata": {
        "id": "ZTbq24ATu4nJ"
      },
      "source": []
    }
  ],
  "metadata": {
    "colab": {
      "provenance": []
    },
    "kernelspec": {
      "display_name": "Python 3",
      "name": "python3"
    },
    "language_info": {
      "name": "python"
    }
  },
  "nbformat": 4,
  "nbformat_minor": 0
}
